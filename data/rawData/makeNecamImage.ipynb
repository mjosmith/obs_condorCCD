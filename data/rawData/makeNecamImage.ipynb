{
 "cells": [
  {
   "cell_type": "code",
   "execution_count": 16,
   "metadata": {},
   "outputs": [],
   "source": [
    "import numpy as np\n",
    "from astropy.io import fits\n",
    "from astropy.convolution import Gaussian2DKernel\n",
    "from astropy.convolution import convolve"
   ]
  },
  {
   "cell_type": "code",
   "execution_count": 17,
   "metadata": {},
   "outputs": [],
   "source": [
    "im = np.zeros([4096,6144], dtype=np.uint)\n",
    "ind_1d = np.random.choice(np.arange(im.size), replace=False,\n",
    "                       size = int(im.size * 0.001))\n",
    "im[np.unravel_index(ind_1d, im.shape)] = 20000.\n",
    "\n",
    "kernel = Gaussian2DKernel(x_stddev=3)\n",
    "im = convolve(im, kernel)"
   ]
  },
  {
   "cell_type": "code",
   "execution_count": 18,
   "metadata": {},
   "outputs": [],
   "source": [
    "noise = 100 * (1+np.random.rand(4096,6144))\n",
    "im += noise\n",
    "im = np.rint(im)\n",
    "#im = im.astype(np.uint)"
   ]
  },
  {
   "cell_type": "code",
   "execution_count": 19,
   "metadata": {},
   "outputs": [],
   "source": [
    "hdu = fits.PrimaryHDU(im)\n",
    "hdu.scale('int16', bzero=32768)\n",
    "hdu.header['IMGTYPE'] = 'SCIENCE'\n",
    "hdu.header['FILTER'] = 'Clear'\n",
    "hdu.header['DATE-OBS'] = '20200904'\n",
    "hdu.header['RUN'] = 1\n",
    "hdu.header['INSTRUME'] = 'NECAM'\n",
    "hdu.header['DETECTOR'] = 1\n",
    "hdu.header['EXPTIME'] = 60.\n",
    "hdu.header['OBJECT'] = 'MOCK'\n",
    "hdu.header['OBSTYPE'] = 'science'\n",
    "hdu.header['RA2000'] = 180.\n",
    "hdu.header['DEC2000'] = 45."
   ]
  },
  {
   "cell_type": "code",
   "execution_count": 20,
   "metadata": {},
   "outputs": [],
   "source": [
    "hdu.writeto('r0001.fits', overwrite=True)"
   ]
  },
  {
   "cell_type": "code",
   "execution_count": null,
   "metadata": {},
   "outputs": [],
   "source": []
  }
 ],
 "metadata": {
  "kernelspec": {
   "display_name": "Python 3",
   "language": "python",
   "name": "python3"
  },
  "language_info": {
   "codemirror_mode": {
    "name": "ipython",
    "version": 3
   },
   "file_extension": ".py",
   "mimetype": "text/x-python",
   "name": "python",
   "nbconvert_exporter": "python",
   "pygments_lexer": "ipython3",
   "version": "3.8.4"
  }
 },
 "nbformat": 4,
 "nbformat_minor": 4
}
